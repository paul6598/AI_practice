{
  "nbformat": 4,
  "nbformat_minor": 0,
  "metadata": {
    "colab": {
      "provenance": [],
      "authorship_tag": "ABX9TyNGZSc0CYu8wIs978Z/zaMj",
      "include_colab_link": true
    },
    "kernelspec": {
      "name": "python3",
      "display_name": "Python 3"
    },
    "language_info": {
      "name": "python"
    }
  },
  "cells": [
    {
      "cell_type": "markdown",
      "metadata": {
        "id": "view-in-github",
        "colab_type": "text"
      },
      "source": [
        "<a href=\"https://colab.research.google.com/github/paul6598/AI_practice/blob/main/240506.ipynb\" target=\"_parent\"><img src=\"https://colab.research.google.com/assets/colab-badge.svg\" alt=\"Open In Colab\"/></a>"
      ]
    },
    {
      "cell_type": "code",
      "execution_count": null,
      "metadata": {
        "id": "yNsns66a-ZiC"
      },
      "outputs": [],
      "source": [
        "import numpy as np\n",
        "import pandas as pd\n",
        "import random"
      ]
    },
    {
      "cell_type": "code",
      "source": [
        "input_ = [\n",
        "    [[0,0],[0]],\n",
        "    [[0,1],[1]],\n",
        "    [[1,0],[1]],\n",
        "    [[1,1],[0]],\n",
        "    ]\n",
        "\n",
        "lr = 0.01\n",
        "\n",
        "def sigmoid(x, derivative = False):\n",
        "  if derivative:\n",
        "    return x*(1-x)\n",
        "  else:\n",
        "    return 1/(1+np.exp(-x))\n",
        "\n",
        "def relu(x, derivative = False):\n",
        "  if derivative:\n",
        "    if x<0:\n",
        "      return 0\n",
        "    else:\n",
        "      return 1\n",
        "  else:\n",
        "    if x<0:\n",
        "      return 0\n",
        "    else:\n",
        "      return x\n",
        "\n",
        "class cnn():\n",
        "  def __init__(self, num_x, num_h, num_y, bias=1):\n",
        "    self.num_x = num_x + bias #신경망 노드 수 입력\n",
        "    self.num_h = num_h\n",
        "    self.num_y = num_y\n",
        "\n",
        "    self.active_input = [0.0]*num_x #신경망 노드 구축\n",
        "    self.active_hidden = [0.0]*num_h\n",
        "    self.active_output = [0.0]*num_y\n",
        "\n",
        "    self.weight_input = self.make_matrics(num_h, num_x) #입력-은닉층 가중치벡터 구성\n",
        "    for i in range(num_h):\n",
        "      for j in range(num_x):\n",
        "        self.weight_input[i][j] = random.random()\n",
        "\n",
        "    self.weight_output = self.make_matrics(num_y, num_h) #은닉-출력층 가중치벡터 구성\n",
        "    for i in range(num_y):\n",
        "      for j in range(num_h):\n",
        "        self.weight_output[i][j] = random.random()\n",
        "\n",
        "  def make_matrics(self, i, j):\n",
        "    return [[0.0]*j for _ in range(i)]\n",
        "\n",
        "  def update(self,input_):\n",
        "    for i in range(self.num_x-self.bias): #입력층\n",
        "      self.active_input[i] = input_[i]\n",
        "\n",
        "    for i in range(self.num_h): #은닉층\n",
        "      sum_ = 0.0\n",
        "      for j in range(self.num_x):\n",
        "        sum_ += self.weight_input[i][j]*self.active_input[j]\n",
        "      self.active_hidden[i] = sigmoid(sum_)\n",
        "\n",
        "    for i in range(self.num_y): #출력층\n",
        "      sum_ = 0.0\n",
        "      for j in range(self.num_h):\n",
        "        sum_ += self.weight_output[i][j]*self.active_hidden[j]\n",
        "      self.active_output[i] = sigmoid(sum_)\n",
        "\n",
        "    return self.active_output[:]\n",
        "\n",
        "  def backprogate(self, targets):\n",
        "    delta_out = [0.0]*self.num_y #출력층 델타식\n",
        "    for i in range(self.num_y):\n",
        "      delta_out[i] = (self.active_output[i]-targets[i])*sigmoid(self.active_output[i], True)\n",
        "\n",
        "    delta_hidden = [0.0]*self.num_h #은닉층 델타식\n",
        "    for i in range(self.num_h):\n",
        "      sum_ = 0.0\n",
        "      for j in range(self.num_y):\n",
        "        sum_ += delta_out[j]*self.weight_output[i][j]\n",
        "      sum_ *= sigmoid(self.active_hidden[i], True)\n",
        "      delta_hidden[i] = sum_\n",
        "\n",
        "\n",
        "    for i in range(self.num_y):\n",
        "      for j in range(self.num_h):\n",
        "        self.weight_output[i][j] -= lr*delta_out[i]*self.active_hidden[j]\n",
        "\n",
        "    for i in range(self.num_h):\n",
        "      for j in range(self.num_x):\n",
        "        self.weight_input[i][j] -= lr*delta_hidden[i]*self.active_input[j]\n",
        "\n",
        "  def train(self, input):\n",
        "\n",
        "    return\n",
        "\n"
      ],
      "metadata": {
        "id": "kBisMPaN_GRS"
      },
      "execution_count": null,
      "outputs": []
    },
    {
      "cell_type": "code",
      "source": [
        "random.random()"
      ],
      "metadata": {
        "colab": {
          "base_uri": "https://localhost:8080/"
        },
        "id": "w9aO4TMKOa9d",
        "outputId": "e44ef0e5-0442-45ac-ec9e-0221ab2e7482"
      },
      "execution_count": null,
      "outputs": [
        {
          "output_type": "execute_result",
          "data": {
            "text/plain": [
              "0.11845943532348668"
            ]
          },
          "metadata": {},
          "execution_count": 6
        }
      ]
    },
    {
      "cell_type": "code",
      "source": [],
      "metadata": {
        "id": "ZE_nliLYOdQ8"
      },
      "execution_count": null,
      "outputs": []
    }
  ]
}