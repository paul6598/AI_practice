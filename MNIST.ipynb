{
  "nbformat": 4,
  "nbformat_minor": 0,
  "metadata": {
    "colab": {
      "provenance": [],
      "gpuType": "T4",
      "authorship_tag": "ABX9TyOOa8Ghsv7H6Pfp+k4Gkhdy",
      "include_colab_link": true
    },
    "kernelspec": {
      "name": "python3",
      "display_name": "Python 3"
    },
    "language_info": {
      "name": "python"
    },
    "accelerator": "GPU"
  },
  "cells": [
    {
      "cell_type": "markdown",
      "metadata": {
        "id": "view-in-github",
        "colab_type": "text"
      },
      "source": [
        "<a href=\"https://colab.research.google.com/github/paul6598/AI_practice/blob/main/MNIST.ipynb\" target=\"_parent\"><img src=\"https://colab.research.google.com/assets/colab-badge.svg\" alt=\"Open In Colab\"/></a>"
      ]
    },
    {
      "cell_type": "code",
      "execution_count": 2,
      "metadata": {
        "id": "tg_H6ieHgGif"
      },
      "outputs": [],
      "source": [
        "from tensorflow.keras.datasets import mnist\n",
        "from tensorflow.keras.utils import to_categorical\n",
        "\n",
        "from tensorflow.keras.models import Sequential\n",
        "from tensorflow.keras.layers import Dense\n",
        "from tensorflow.keras.callbacks import EarlyStopping, ModelCheckpoint\n",
        "\n",
        "import matplotlib.pyplot as plt\n",
        "import numpy as np\n",
        "import os"
      ]
    },
    {
      "cell_type": "code",
      "source": [
        "from tensorflow.keras.layers import Dropout, Flatten, Conv2D, MaxPooling2D"
      ],
      "metadata": {
        "id": "CiRSMcBBv-sT"
      },
      "execution_count": 3,
      "outputs": []
    },
    {
      "cell_type": "markdown",
      "source": [
        "# 데이터 로드"
      ],
      "metadata": {
        "id": "IUcD24LakAi-"
      }
    },
    {
      "cell_type": "code",
      "source": [
        "(x_train, y_train), (x_test, y_test) = mnist.load_data()"
      ],
      "metadata": {
        "colab": {
          "base_uri": "https://localhost:8080/"
        },
        "id": "rI3S9kpThBEC",
        "outputId": "0a95e95b-7af8-4d2f-bb4b-0287cadc8e05"
      },
      "execution_count": 4,
      "outputs": [
        {
          "output_type": "stream",
          "name": "stdout",
          "text": [
            "Downloading data from https://storage.googleapis.com/tensorflow/tf-keras-datasets/mnist.npz\n",
            "11490434/11490434 [==============================] - 1s 0us/step\n"
          ]
        }
      ]
    },
    {
      "cell_type": "code",
      "source": [
        "plt.imshow(x_train[0], cmap=\"Greys\")\n",
        "plt.show()"
      ],
      "metadata": {
        "colab": {
          "base_uri": "https://localhost:8080/",
          "height": 430
        },
        "id": "73oSW779hL9V",
        "outputId": "b2764c18-2c4c-4e55-a9c1-a34891c30101"
      },
      "execution_count": 5,
      "outputs": [
        {
          "output_type": "display_data",
          "data": {
            "text/plain": [
              "<Figure size 640x480 with 1 Axes>"
            ],
            "image/png": "[encoded data removed]"
          },
          "metadata": {}
        }
      ]
    },
    {
      "cell_type": "markdown",
      "source": [
        "# 데이터 전처리"
      ],
      "metadata": {
        "id": "9T70cPFoj6oQ"
      }
    },
    {
      "cell_type": "code",
      "source": [
        " #(60000, 28, 28), 데이터 갯수, 세로 픽셀, 가로 픽셀\n",
        "\n",
        "x_train = x_train.reshape(x_train.shape[0],784) #데이터를 1차원 배열로 변형\n",
        "x_train = x_train.astype('float64') #0~255 사이의 정수값을 갖는 픽셀 데이터를 실수 자료형으로 변환(연산을 하기 위해)\n",
        "x_train = x_train/255 #학습을 위해 0~255 사이의 값을 0~1 사이의 값으로 바꿈(적절한 분산을 갖도록)\n",
        "\n",
        "x_test = x_test.reshape(x_test.shape[0],28*28).astype('float64')/255  #위 과정을 한번에"
      ],
      "metadata": {
        "id": "mT4wJ69EhN_k"
      },
      "execution_count": 6,
      "outputs": []
    },
    {
      "cell_type": "code",
      "source": [
        "x_train[0]"
      ],
      "metadata": {
        "colab": {
          "base_uri": "https://localhost:8080/"
        },
        "id": "M1-k-bffsMCS",
        "outputId": "ab9843b8-42d2-4def-a291-d1d4997dd042"
      },
      "execution_count": 8,
      "outputs": [
        {
          "output_type": "execute_result",
          "data": {
            "text/plain": [
              "array([[0.        , 0.        , 0.        , 0.        , 0.        ,\n",
              "        0.        , 0.        , 0.        , 0.        , 0.        ,\n",
              "        0.        , 0.        , 0.        , 0.        , 0.        ,\n",
              "        0.        , 0.        , 0.        , 0.        , 0.        ,\n",
              "        0.        , 0.        , 0.        , 0.        , 0.        ,\n",
              "        0.        , 0.        , 0.        ],\n",
              "       [0.        , 0.        , 0.        , 0.        , 0.        ,\n",
              "        0.        , 0.        , 0.        , 0.        , 0.        ,\n",
              "        0.        , 0.        , 0.        , 0.        , 0.        ,\n",
              "        0.        , 0.        , 0.        , 0.        , 0.        ,\n",
              "        0.        , 0.        , 0.        , 0.        , 0.        ,\n",
              "        0.        , 0.        , 0.        ],\n",
              "       [0.        , 0.        , 0.        , 0.        , 0.        ,\n",
              "        0.        , 0.        , 0.        , 0.        , 0.        ,\n",
              "        0.        , 0.        , 0.        , 0.        , 0.        ,\n",
              "        0.        , 0.        , 0.        , 0.        , 0.        ,\n",
              "        0.        , 0.        , 0.        , 0.        , 0.        ,\n",
              "        0.        , 0.        , 0.        ],\n",
              "       [0.        , 0.        , 0.        , 0.        , 0.        ,\n",
              "        0.        , 0.        , 0.        , 0.        , 0.        ,\n",
              "        0.        , 0.        , 0.        , 0.        , 0.        ,\n",
              "        0.        , 0.        , 0.        , 0.        , 0.        ,\n",
              "        0.        , 0.        , 0.        , 0.        , 0.        ,\n",
              "        0.        , 0.        , 0.        ],\n",
              "       [0.        , 0.        , 0.        , 0.        , 0.        ,\n",
              "        0.        , 0.        , 0.        , 0.        , 0.        ,\n",
              "        0.        , 0.        , 0.        , 0.        , 0.        ,\n",
              "        0.        , 0.        , 0.        , 0.        , 0.        ,\n",
              "        0.        , 0.        , 0.        , 0.        , 0.        ,\n",
              "        0.        , 0.        , 0.        ],\n",
              "       [0.        , 0.        , 0.        , 0.        , 0.        ,\n",
              "        0.        , 0.        , 0.        , 0.        , 0.        ,\n",
              "        0.        , 0.        , 0.01176471, 0.07058824, 0.07058824,\n",
              "        0.07058824, 0.49411765, 0.53333333, 0.68627451, 0.10196078,\n",
              "        0.65098039, 1.        , 0.96862745, 0.49803922, 0.        ,\n",
              "        0.        , 0.        , 0.        ],\n",
              "       [0.        , 0.        , 0.        , 0.        , 0.        ,\n",
              "        0.        , 0.        , 0.        , 0.11764706, 0.14117647,\n",
              "        0.36862745, 0.60392157, 0.66666667, 0.99215686, 0.99215686,\n",
              "        0.99215686, 0.99215686, 0.99215686, 0.88235294, 0.6745098 ,\n",
              "        0.99215686, 0.94901961, 0.76470588, 0.25098039, 0.        ,\n",
              "        0.        , 0.        , 0.        ],\n",
              "       [0.        , 0.        , 0.        , 0.        , 0.        ,\n",
              "        0.        , 0.        , 0.19215686, 0.93333333, 0.99215686,\n",
              "        0.99215686, 0.99215686, 0.99215686, 0.99215686, 0.99215686,\n",
              "        0.99215686, 0.99215686, 0.98431373, 0.36470588, 0.32156863,\n",
              "        0.32156863, 0.21960784, 0.15294118, 0.        , 0.        ,\n",
              "        0.        , 0.        , 0.        ],\n",
              "       [0.        , 0.        , 0.        , 0.        , 0.        ,\n",
              "        0.        , 0.        , 0.07058824, 0.85882353, 0.99215686,\n",
              "        0.99215686, 0.99215686, 0.99215686, 0.99215686, 0.77647059,\n",
              "        0.71372549, 0.96862745, 0.94509804, 0.        , 0.        ,\n",
              "        0.        , 0.        , 0.        , 0.        , 0.        ,\n",
              "        0.        , 0.        , 0.        ],\n",
              "       [0.        , 0.        , 0.        , 0.        , 0.        ,\n",
              "        0.        , 0.        , 0.        , 0.31372549, 0.61176471,\n",
              "        0.41960784, 0.99215686, 0.99215686, 0.80392157, 0.04313725,\n",
              "        0.        , 0.16862745, 0.60392157, 0.        , 0.        ,\n",
              "        0.        , 0.        , 0.        , 0.        , 0.        ,\n",
              "        0.        , 0.        , 0.        ],\n",
              "       [0.        , 0.        , 0.        , 0.        , 0.        ,\n",
              "        0.        , 0.        , 0.        , 0.        , 0.05490196,\n",
              "        0.00392157, 0.60392157, 0.99215686, 0.35294118, 0.        ,\n",
              "        0.        , 0.        , 0.        , 0.        , 0.        ,\n",
              "        0.        , 0.        , 0.        , 0.        , 0.        ,\n",
              "        0.        , 0.        , 0.        ],\n",
              "       [0.        , 0.        , 0.        , 0.        , 0.        ,\n",
              "        0.        , 0.        , 0.        , 0.        , 0.        ,\n",
              "        0.        , 0.54509804, 0.99215686, 0.74509804, 0.00784314,\n",
              "        0.        , 0.        , 0.        , 0.        , 0.        ,\n",
              "        0.        , 0.        , 0.        , 0.        , 0.        ,\n",
              "        0.        , 0.        , 0.        ],\n",
              "       [0.        , 0.        , 0.        , 0.        , 0.        ,\n",
              "        0.        , 0.        , 0.        , 0.        , 0.        ,\n",
              "        0.        , 0.04313725, 0.74509804, 0.99215686, 0.2745098 ,\n",
              "        0.        , 0.        , 0.        , 0.        , 0.        ,\n",
              "        0.        , 0.        , 0.        , 0.        , 0.        ,\n",
              "        0.        , 0.        , 0.        ],\n",
              "       [0.        , 0.        , 0.        , 0.        , 0.        ,\n",
              "        0.        , 0.        , 0.        , 0.        , 0.        ,\n",
              "        0.        , 0.        , 0.1372549 , 0.94509804, 0.88235294,\n",
              "        0.62745098, 0.42352941, 0.00392157, 0.        , 0.        ,\n",
              "        0.        , 0.        , 0.        , 0.        , 0.        ,\n",
              "        0.        , 0.        , 0.        ],\n",
              "       [0.        , 0.        , 0.        , 0.        , 0.        ,\n",
              "        0.        , 0.        , 0.        , 0.        , 0.        ,\n",
              "        0.        , 0.        , 0.        , 0.31764706, 0.94117647,\n",
              "        0.99215686, 0.99215686, 0.46666667, 0.09803922, 0.        ,\n",
              "        0.        , 0.        , 0.        , 0.        , 0.        ,\n",
              "        0.        , 0.        , 0.        ],\n",
              "       [0.        , 0.        , 0.        , 0.        , 0.        ,\n",
              "        0.        , 0.        , 0.        , 0.        , 0.        ,\n",
              "        0.        , 0.        , 0.        , 0.        , 0.17647059,\n",
              "        0.72941176, 0.99215686, 0.99215686, 0.58823529, 0.10588235,\n",
              "        0.        , 0.        , 0.        , 0.        , 0.        ,\n",
              "        0.        , 0.        , 0.        ],\n",
              "       [0.        , 0.        , 0.        , 0.        , 0.        ,\n",
              "        0.        , 0.        , 0.        , 0.        , 0.        ,\n",
              "        0.        , 0.        , 0.        , 0.        , 0.        ,\n",
              "        0.0627451 , 0.36470588, 0.98823529, 0.99215686, 0.73333333,\n",
              "        0.        , 0.        , 0.        , 0.        , 0.        ,\n",
              "        0.        , 0.        , 0.        ],\n",
              "       [0.        , 0.        , 0.        , 0.        , 0.        ,\n",
              "        0.        , 0.        , 0.        , 0.        , 0.        ,\n",
              "        0.        , 0.        , 0.        , 0.        , 0.        ,\n",
              "        0.        , 0.        , 0.97647059, 0.99215686, 0.97647059,\n",
              "        0.25098039, 0.        , 0.        , 0.        , 0.        ,\n",
              "        0.        , 0.        , 0.        ],\n",
              "       [0.        , 0.        , 0.        , 0.        , 0.        ,\n",
              "        0.        , 0.        , 0.        , 0.        , 0.        ,\n",
              "        0.        , 0.        , 0.        , 0.        , 0.18039216,\n",
              "        0.50980392, 0.71764706, 0.99215686, 0.99215686, 0.81176471,\n",
              "        0.00784314, 0.        , 0.        , 0.        , 0.        ,\n",
              "        0.        , 0.        , 0.        ],\n",
              "       [0.        , 0.        , 0.        , 0.        , 0.        ,\n",
              "        0.        , 0.        , 0.        , 0.        , 0.        ,\n",
              "        0.        , 0.        , 0.15294118, 0.58039216, 0.89803922,\n",
              "        0.99215686, 0.99215686, 0.99215686, 0.98039216, 0.71372549,\n",
              "        0.        , 0.        , 0.        , 0.        , 0.        ,\n",
              "        0.        , 0.        , 0.        ],\n",
              "       [0.        , 0.        , 0.        , 0.        , 0.        ,\n",
              "        0.        , 0.        , 0.        , 0.        , 0.        ,\n",
              "        0.09411765, 0.44705882, 0.86666667, 0.99215686, 0.99215686,\n",
              "        0.99215686, 0.99215686, 0.78823529, 0.30588235, 0.        ,\n",
              "        0.        , 0.        , 0.        , 0.        , 0.        ,\n",
              "        0.        , 0.        , 0.        ],\n",
              "       [0.        , 0.        , 0.        , 0.        , 0.        ,\n",
              "        0.        , 0.        , 0.        , 0.09019608, 0.25882353,\n",
              "        0.83529412, 0.99215686, 0.99215686, 0.99215686, 0.99215686,\n",
              "        0.77647059, 0.31764706, 0.00784314, 0.        , 0.        ,\n",
              "        0.        , 0.        , 0.        , 0.        , 0.        ,\n",
              "        0.        , 0.        , 0.        ],\n",
              "       [0.        , 0.        , 0.        , 0.        , 0.        ,\n",
              "        0.        , 0.07058824, 0.67058824, 0.85882353, 0.99215686,\n",
              "        0.99215686, 0.99215686, 0.99215686, 0.76470588, 0.31372549,\n",
              "        0.03529412, 0.        , 0.        , 0.        , 0.        ,\n",
              "        0.        , 0.        , 0.        , 0.        , 0.        ,\n",
              "        0.        , 0.        , 0.        ],\n",
              "       [0.        , 0.        , 0.        , 0.        , 0.21568627,\n",
              "        0.6745098 , 0.88627451, 0.99215686, 0.99215686, 0.99215686,\n",
              "        0.99215686, 0.95686275, 0.52156863, 0.04313725, 0.        ,\n",
              "        0.        , 0.        , 0.        , 0.        , 0.        ,\n",
              "        0.        , 0.        , 0.        , 0.        , 0.        ,\n",
              "        0.        , 0.        , 0.        ],\n",
              "       [0.        , 0.        , 0.        , 0.        , 0.53333333,\n",
              "        0.99215686, 0.99215686, 0.99215686, 0.83137255, 0.52941176,\n",
              "        0.51764706, 0.0627451 , 0.        , 0.        , 0.        ,\n",
              "        0.        , 0.        , 0.        , 0.        , 0.        ,\n",
              "        0.        , 0.        , 0.        , 0.        , 0.        ,\n",
              "        0.        , 0.        , 0.        ],\n",
              "       [0.        , 0.        , 0.        , 0.        , 0.        ,\n",
              "        0.        , 0.        , 0.        , 0.        , 0.        ,\n",
              "        0.        , 0.        , 0.        , 0.        , 0.        ,\n",
              "        0.        , 0.        , 0.        , 0.        , 0.        ,\n",
              "        0.        , 0.        , 0.        , 0.        , 0.        ,\n",
              "        0.        , 0.        , 0.        ],\n",
              "       [0.        , 0.        , 0.        , 0.        , 0.        ,\n",
              "        0.        , 0.        , 0.        , 0.        , 0.        ,\n",
              "        0.        , 0.        , 0.        , 0.        , 0.        ,\n",
              "        0.        , 0.        , 0.        , 0.        , 0.        ,\n",
              "        0.        , 0.        , 0.        , 0.        , 0.        ,\n",
              "        0.        , 0.        , 0.        ],\n",
              "       [0.        , 0.        , 0.        , 0.        , 0.        ,\n",
              "        0.        , 0.        , 0.        , 0.        , 0.        ,\n",
              "        0.        , 0.        , 0.        , 0.        , 0.        ,\n",
              "        0.        , 0.        , 0.        , 0.        , 0.        ,\n",
              "        0.        , 0.        , 0.        , 0.        , 0.        ,\n",
              "        0.        , 0.        , 0.        ]])"
            ]
          },
          "metadata": {},
          "execution_count": 8
        }
      ]
    },
    {
      "cell_type": "code",
      "source": [
        "#0~9 사이의 정수값을 갖는 y 레이블을 [0,1,0,0,0,0,0,0,0] 의 형식과 같이 원핫인코딩 해줌\n",
        "y_train, y_test = to_categorical(y_train, 10), to_categorical(y_test, 10)\n",
        "print(y_train[0])"
      ],
      "metadata": {
        "colab": {
          "base_uri": "https://localhost:8080/"
        },
        "id": "N_T3wVbyh1iv",
        "outputId": "b31de8ec-96a5-4d03-d2bc-1200ee2d6fb8"
      },
      "execution_count": 9,
      "outputs": [
        {
          "output_type": "stream",
          "name": "stdout",
          "text": [
            "[0. 0. 0. 0. 0. 1. 0. 0. 0. 0.]\n"
          ]
        }
      ]
    },
    {
      "cell_type": "markdown",
      "source": [
        "# 딥러닝 기본 프레임"
      ],
      "metadata": {
        "id": "O0HkKK6OmPKB"
      }
    },
    {
      "cell_type": "markdown",
      "source": [
        "1. 신경층 구성, 층층이 쌓아올리면서 해당층 노드의 갯수, 활성화 함수등을 결정\n",
        "\n",
        "2. 구성한 신경층을 컴파일, 여기선 각 신경층에서의 손실함수, 최적화함수, 성능지표들을 parameter로 받음\n",
        "\n",
        "3. 학습 진행중 학습이 충분히 완료되었다고 판단했을때(학습률이 더이상 증가하지 않을때) 과적합을 방지하기 위해 학습을 중단하고, 가장 좋았던 모델을 저장\n"
      ],
      "metadata": {
        "id": "iZ-yWafLqDmP"
      }
    },
    {
      "cell_type": "code",
      "source": [
        "model = Sequential()\n",
        "model.add(Dense(512, input_dim = 784, activation='relu'))\n",
        "model.add(Dense(10, activation='softmax'))"
      ],
      "metadata": {
        "id": "dacZiJ1hkeFM"
      },
      "execution_count": 75,
      "outputs": []
    },
    {
      "cell_type": "code",
      "source": [
        "model.compile(loss='categorical_crossentropy', optimizer='adam',metrics=['accuracy'])"
      ],
      "metadata": {
        "id": "e0a9H1PVk8gc"
      },
      "execution_count": 76,
      "outputs": []
    },
    {
      "cell_type": "code",
      "source": [
        "modelpath = './MNIST_MLP.hdf5'\n",
        "checkpointer = ModelCheckpoint(filepath = modelpath, monitor='val_loss',verbose=1,save_best_only=True)\n",
        "early_stopping_callback = EarlyStopping(monitor='val_loss', patience=10)"
      ],
      "metadata": {
        "id": "9RsL_cKqoLAF"
      },
      "execution_count": 77,
      "outputs": []
    },
    {
      "cell_type": "code",
      "source": [
        "history = model.fit(x_train, y_train, validation_split=0.25,\n",
        "                    epochs = 30, batch_size=200, verbose=0,\n",
        "                    callbacks = [early_stopping_callback, checkpointer])\n",
        "\n",
        "print(\"\\n Test Accuracy: %.4f\" % (model.evaluate(x_test, y_test)[1]))"
      ],
      "metadata": {
        "colab": {
          "base_uri": "https://localhost:8080/"
        },
        "id": "1Bl5laLkoMYV",
        "outputId": "118e5692-360d-40dd-b546-02623bbca54e"
      },
      "execution_count": 78,
      "outputs": [
        {
          "output_type": "stream",
          "name": "stdout",
          "text": [
            "\n",
            "Epoch 1: val_loss improved from inf to 0.18108, saving model to ./MNIST_MLP.hdf5\n"
          ]
        },
        {
          "output_type": "stream",
          "name": "stderr",
          "text": [
            "/usr/local/lib/python3.10/dist-packages/keras/src/engine/training.py:3103: UserWarning: You are saving your model as an HDF5 file via `model.save()`. This file format is considered legacy. We recommend using instead the native Keras format, e.g. `model.save('my_model.keras')`.\n",
            "  saving_api.save_model(\n"
          ]
        },
        {
          "output_type": "stream",
          "name": "stdout",
          "text": [
            "\n",
            "Epoch 2: val_loss improved from 0.18108 to 0.13507, saving model to ./MNIST_MLP.hdf5\n",
            "\n",
            "Epoch 3: val_loss improved from 0.13507 to 0.11180, saving model to ./MNIST_MLP.hdf5\n",
            "\n",
            "Epoch 4: val_loss improved from 0.11180 to 0.09625, saving model to ./MNIST_MLP.hdf5\n",
            "\n",
            "Epoch 5: val_loss improved from 0.09625 to 0.09132, saving model to ./MNIST_MLP.hdf5\n",
            "\n",
            "Epoch 6: val_loss improved from 0.09132 to 0.08716, saving model to ./MNIST_MLP.hdf5\n",
            "\n",
            "Epoch 7: val_loss improved from 0.08716 to 0.08265, saving model to ./MNIST_MLP.hdf5\n",
            "\n",
            "Epoch 8: val_loss did not improve from 0.08265\n",
            "\n",
            "Epoch 9: val_loss did not improve from 0.08265\n",
            "\n",
            "Epoch 10: val_loss improved from 0.08265 to 0.07970, saving model to ./MNIST_MLP.hdf5\n",
            "\n",
            "Epoch 11: val_loss improved from 0.07970 to 0.07919, saving model to ./MNIST_MLP.hdf5\n",
            "\n",
            "Epoch 12: val_loss did not improve from 0.07919\n",
            "\n",
            "Epoch 13: val_loss did not improve from 0.07919\n",
            "\n",
            "Epoch 14: val_loss did not improve from 0.07919\n",
            "\n",
            "Epoch 15: val_loss did not improve from 0.07919\n",
            "\n",
            "Epoch 16: val_loss did not improve from 0.07919\n",
            "\n",
            "Epoch 17: val_loss did not improve from 0.07919\n",
            "\n",
            "Epoch 18: val_loss did not improve from 0.07919\n",
            "\n",
            "Epoch 19: val_loss did not improve from 0.07919\n",
            "\n",
            "Epoch 20: val_loss did not improve from 0.07919\n",
            "\n",
            "Epoch 21: val_loss did not improve from 0.07919\n",
            "313/313 [==============================] - 1s 2ms/step - loss: 0.0682 - accuracy: 0.9809\n",
            "\n",
            " Test Accuracy: 0.9809\n"
          ]
        }
      ]
    },
    {
      "cell_type": "code",
      "source": [
        "model.summary()"
      ],
      "metadata": {
        "colab": {
          "base_uri": "https://localhost:8080/"
        },
        "id": "gS72JXe3r-Qe",
        "outputId": "1e511cbb-9a4f-4b66-b9b1-f10fc62f9d47"
      },
      "execution_count": 80,
      "outputs": [
        {
          "output_type": "stream",
          "name": "stdout",
          "text": [
            "Model: \"sequential_3\"\n",
            "_________________________________________________________________\n",
            " Layer (type)                Output Shape              Param #   \n",
            "=================================================================\n",
            " dense_4 (Dense)             (None, 512)               401920    \n",
            "                                                                 \n",
            " dense_5 (Dense)             (None, 10)                5130      \n",
            "                                                                 \n",
            "=================================================================\n",
            "Total params: 407050 (1.55 MB)\n",
            "Trainable params: 407050 (1.55 MB)\n",
            "Non-trainable params: 0 (0.00 Byte)\n",
            "_________________________________________________________________\n"
          ]
        }
      ]
    },
    {
      "cell_type": "code",
      "source": [
        "model2 = Sequential()\n",
        "model2.add(Conv2D(32, kernel_size=(3,3), input_shape = (28,28,1), activation = 'relu'))\n",
        "model2.add(Conv2D(64,(3,3), activation = 'relu'))\n",
        "model2.add(MaxPooling2D(pool_size = (2,2)))\n",
        "model2.add(Dropout(0.25))\n",
        "model2.add(Flatten())\n",
        "model2.add(Dense(256, activation='relu'))\n",
        "model2.add(Dropout(0.25))\n",
        "model2.add(Dense(64, activation='relu'))\n",
        "model2.add(Dense(10, activation='softmax'))\n",
        "\n",
        "model2.summary()"
      ],
      "metadata": {
        "colab": {
          "base_uri": "https://localhost:8080/"
        },
        "id": "uOgLXPRKv7WE",
        "outputId": "53c792a8-555c-4692-99f4-546fe833d7f1"
      },
      "execution_count": 10,
      "outputs": [
        {
          "output_type": "stream",
          "name": "stdout",
          "text": [
            "Model: \"sequential\"\n",
            "_________________________________________________________________\n",
            " Layer (type)                Output Shape              Param #   \n",
            "=================================================================\n",
            " conv2d (Conv2D)             (None, 26, 26, 32)        320       \n",
            "                                                                 \n",
            " conv2d_1 (Conv2D)           (None, 24, 24, 64)        18496     \n",
            "                                                                 \n",
            " max_pooling2d (MaxPooling2  (None, 12, 12, 64)        0         \n",
            " D)                                                              \n",
            "                                                                 \n",
            " dropout (Dropout)           (None, 12, 12, 64)        0         \n",
            "                                                                 \n",
            " flatten (Flatten)           (None, 9216)              0         \n",
            "                                                                 \n",
            " dense (Dense)               (None, 256)               2359552   \n",
            "                                                                 \n",
            " dropout_1 (Dropout)         (None, 256)               0         \n",
            "                                                                 \n",
            " dense_1 (Dense)             (None, 64)                16448     \n",
            "                                                                 \n",
            " dense_2 (Dense)             (None, 10)                650       \n",
            "                                                                 \n",
            "=================================================================\n",
            "Total params: 2395466 (9.14 MB)\n",
            "Trainable params: 2395466 (9.14 MB)\n",
            "Non-trainable params: 0 (0.00 Byte)\n",
            "_________________________________________________________________\n"
          ]
        }
      ]
    },
    {
      "cell_type": "code",
      "source": [
        "model2.compile(loss='categorical_crossentropy', optimizer='adam',metrics=['accuracy'])\n",
        "\n",
        "modelpath = './MNIST_MLP.hdf5'\n",
        "checkpointer = ModelCheckpoint(filepath = modelpath, monitor='val_loss',verbose=1,save_best_only=True)\n",
        "early_stopping_callback = EarlyStopping(monitor='val_loss', patience=10)\n",
        "\n",
        "history = model2.fit(x_train, y_train, validation_split=0.25,\n",
        "                    epochs = 50, batch_size=200, verbose=1,\n",
        "                    callbacks = [early_stopping_callback, checkpointer])\n",
        "\n",
        "print(\"\\n Test Accuracy: %.4f\" % (model2.evaluate(x_test, y_test)[1]))"
      ],
      "metadata": {
        "colab": {
          "base_uri": "https://localhost:8080/"
        },
        "id": "arg7pDASt1uP",
        "outputId": "aa3c54d2-fc88-49a7-ffa5-31eed865d736"
      },
      "execution_count": 11,
      "outputs": [
        {
          "output_type": "stream",
          "name": "stdout",
          "text": [
            "Epoch 1/50\n",
            "221/225 [============================>.] - ETA: 0s - loss: 0.2490 - accuracy: 0.9261\n",
            "Epoch 1: val_loss improved from inf to 0.07599, saving model to ./MNIST_MLP.hdf5\n",
            "225/225 [==============================] - 10s 17ms/step - loss: 0.2458 - accuracy: 0.9271 - val_loss: 0.0760 - val_accuracy: 0.9770\n",
            "Epoch 2/50\n",
            "  1/225 [..............................] - ETA: 3s - loss: 0.0649 - accuracy: 0.9800"
          ]
        },
        {
          "output_type": "stream",
          "name": "stderr",
          "text": [
            "/usr/local/lib/python3.10/dist-packages/keras/src/engine/training.py:3103: UserWarning: You are saving your model as an HDF5 file via `model.save()`. This file format is considered legacy. We recommend using instead the native Keras format, e.g. `model.save('my_model.keras')`.\n",
            "  saving_api.save_model(\n"
          ]
        },
        {
          "output_type": "stream",
          "name": "stdout",
          "text": [
            "224/225 [============================>.] - ETA: 0s - loss: 0.0629 - accuracy: 0.9808\n",
            "Epoch 2: val_loss improved from 0.07599 to 0.05636, saving model to ./MNIST_MLP.hdf5\n",
            "225/225 [==============================] - 3s 14ms/step - loss: 0.0631 - accuracy: 0.9808 - val_loss: 0.0564 - val_accuracy: 0.9817\n",
            "Epoch 3/50\n",
            "224/225 [============================>.] - ETA: 0s - loss: 0.0431 - accuracy: 0.9867\n",
            "Epoch 3: val_loss improved from 0.05636 to 0.04250, saving model to ./MNIST_MLP.hdf5\n",
            "225/225 [==============================] - 3s 13ms/step - loss: 0.0430 - accuracy: 0.9868 - val_loss: 0.0425 - val_accuracy: 0.9872\n",
            "Epoch 4/50\n",
            "222/225 [============================>.] - ETA: 0s - loss: 0.0311 - accuracy: 0.9904\n",
            "Epoch 4: val_loss did not improve from 0.04250\n",
            "225/225 [==============================] - 3s 13ms/step - loss: 0.0311 - accuracy: 0.9904 - val_loss: 0.0435 - val_accuracy: 0.9867\n",
            "Epoch 5/50\n",
            "223/225 [============================>.] - ETA: 0s - loss: 0.0222 - accuracy: 0.9927\n",
            "Epoch 5: val_loss did not improve from 0.04250\n",
            "225/225 [==============================] - 3s 14ms/step - loss: 0.0221 - accuracy: 0.9928 - val_loss: 0.0465 - val_accuracy: 0.9871\n",
            "Epoch 6/50\n",
            "225/225 [==============================] - ETA: 0s - loss: 0.0204 - accuracy: 0.9930\n",
            "Epoch 6: val_loss did not improve from 0.04250\n",
            "225/225 [==============================] - 3s 13ms/step - loss: 0.0204 - accuracy: 0.9930 - val_loss: 0.0456 - val_accuracy: 0.9869\n",
            "Epoch 7/50\n",
            "224/225 [============================>.] - ETA: 0s - loss: 0.0155 - accuracy: 0.9950\n",
            "Epoch 7: val_loss did not improve from 0.04250\n",
            "225/225 [==============================] - 3s 13ms/step - loss: 0.0155 - accuracy: 0.9950 - val_loss: 0.0455 - val_accuracy: 0.9883\n",
            "Epoch 8/50\n",
            "224/225 [============================>.] - ETA: 0s - loss: 0.0139 - accuracy: 0.9953\n",
            "Epoch 8: val_loss did not improve from 0.04250\n",
            "225/225 [==============================] - 4s 17ms/step - loss: 0.0140 - accuracy: 0.9952 - val_loss: 0.0556 - val_accuracy: 0.9861\n",
            "Epoch 9/50\n",
            "224/225 [============================>.] - ETA: 0s - loss: 0.0132 - accuracy: 0.9952\n",
            "Epoch 9: val_loss did not improve from 0.04250\n",
            "225/225 [==============================] - 4s 18ms/step - loss: 0.0132 - accuracy: 0.9952 - val_loss: 0.0433 - val_accuracy: 0.9889\n",
            "Epoch 10/50\n",
            "223/225 [============================>.] - ETA: 0s - loss: 0.0110 - accuracy: 0.9964\n",
            "Epoch 10: val_loss improved from 0.04250 to 0.04092, saving model to ./MNIST_MLP.hdf5\n",
            "225/225 [==============================] - 3s 14ms/step - loss: 0.0111 - accuracy: 0.9964 - val_loss: 0.0409 - val_accuracy: 0.9892\n",
            "Epoch 11/50\n",
            "221/225 [============================>.] - ETA: 0s - loss: 0.0095 - accuracy: 0.9968\n",
            "Epoch 11: val_loss did not improve from 0.04092\n",
            "225/225 [==============================] - 3s 13ms/step - loss: 0.0095 - accuracy: 0.9968 - val_loss: 0.0425 - val_accuracy: 0.9894\n",
            "Epoch 12/50\n",
            "223/225 [============================>.] - ETA: 0s - loss: 0.0098 - accuracy: 0.9962\n",
            "Epoch 12: val_loss did not improve from 0.04092\n",
            "225/225 [==============================] - 3s 13ms/step - loss: 0.0097 - accuracy: 0.9962 - val_loss: 0.0498 - val_accuracy: 0.9883\n",
            "Epoch 13/50\n",
            "223/225 [============================>.] - ETA: 0s - loss: 0.0086 - accuracy: 0.9969\n",
            "Epoch 13: val_loss did not improve from 0.04092\n",
            "225/225 [==============================] - 3s 14ms/step - loss: 0.0086 - accuracy: 0.9970 - val_loss: 0.0502 - val_accuracy: 0.9887\n",
            "Epoch 14/50\n",
            "224/225 [============================>.] - ETA: 0s - loss: 0.0088 - accuracy: 0.9971\n",
            "Epoch 14: val_loss did not improve from 0.04092\n",
            "225/225 [==============================] - 3s 13ms/step - loss: 0.0088 - accuracy: 0.9970 - val_loss: 0.0508 - val_accuracy: 0.9889\n",
            "Epoch 15/50\n",
            "224/225 [============================>.] - ETA: 0s - loss: 0.0086 - accuracy: 0.9970\n",
            "Epoch 15: val_loss did not improve from 0.04092\n",
            "225/225 [==============================] - 3s 13ms/step - loss: 0.0085 - accuracy: 0.9970 - val_loss: 0.0518 - val_accuracy: 0.9882\n",
            "Epoch 16/50\n",
            "221/225 [============================>.] - ETA: 0s - loss: 0.0075 - accuracy: 0.9974\n",
            "Epoch 16: val_loss did not improve from 0.04092\n",
            "225/225 [==============================] - 3s 13ms/step - loss: 0.0073 - accuracy: 0.9975 - val_loss: 0.0507 - val_accuracy: 0.9896\n",
            "Epoch 17/50\n",
            "222/225 [============================>.] - ETA: 0s - loss: 0.0062 - accuracy: 0.9980\n",
            "Epoch 17: val_loss did not improve from 0.04092\n",
            "225/225 [==============================] - 4s 16ms/step - loss: 0.0063 - accuracy: 0.9980 - val_loss: 0.0476 - val_accuracy: 0.9907\n",
            "Epoch 18/50\n",
            "225/225 [==============================] - ETA: 0s - loss: 0.0063 - accuracy: 0.9979\n",
            "Epoch 18: val_loss did not improve from 0.04092\n",
            "225/225 [==============================] - 4s 18ms/step - loss: 0.0063 - accuracy: 0.9979 - val_loss: 0.0539 - val_accuracy: 0.9898\n",
            "Epoch 19/50\n",
            "223/225 [============================>.] - ETA: 0s - loss: 0.0050 - accuracy: 0.9982\n",
            "Epoch 19: val_loss did not improve from 0.04092\n",
            "225/225 [==============================] - 3s 13ms/step - loss: 0.0051 - accuracy: 0.9982 - val_loss: 0.0467 - val_accuracy: 0.9897\n",
            "Epoch 20/50\n",
            "224/225 [============================>.] - ETA: 0s - loss: 0.0047 - accuracy: 0.9985\n",
            "Epoch 20: val_loss did not improve from 0.04092\n",
            "225/225 [==============================] - 3s 13ms/step - loss: 0.0048 - accuracy: 0.9984 - val_loss: 0.0516 - val_accuracy: 0.9886\n",
            "313/313 [==============================] - 1s 3ms/step - loss: 0.0430 - accuracy: 0.9901\n",
            "\n",
            " Test Accuracy: 0.9901\n"
          ]
        }
      ]
    },
    {
      "cell_type": "code",
      "source": [
        "y_vloss = history.history['val_loss']\n",
        "y_loss = history.history['loss']\n",
        "\n",
        "x_len = np.arange(len(y_loss))\n",
        "\n",
        "plt.plot(x_len, y_vloss, marker = '.', c = 'red', label = 'Testset_loss')\n",
        "plt.plot(x_len, y_loss, marker = '.', c = 'green', label = 'Trainset_loss')\n",
        "\n",
        "plt.legend(loc = 'upper right')\n",
        "plt.grid()\n",
        "plt.xlabel('epoch')\n",
        "plt.ylabel('loss')\n",
        "plt.show()"
      ],
      "metadata": {
        "colab": {
          "base_uri": "https://localhost:8080/",
          "height": 449
        },
        "id": "ALdgFgOHuUfD",
        "outputId": "c5cfd5ee-159f-4ebe-935b-424c26081b78"
      },
      "execution_count": 12,
      "outputs": [
        {
          "output_type": "display_data",
          "data": {
            "text/plain": [
              "<Figure size 640x480 with 1 Axes>"
            ],
            "image/png": "[encoded data removed]"
          },
          "metadata": {}
        }
      ]
    },
    {
      "cell_type": "code",
      "source": [],
      "metadata": {
        "colab": {
          "base_uri": "https://localhost:8080/"
        },
        "id": "uBo4aeK9vI1m",
        "outputId": "d5ad57de-d47e-4f49-df78-f86042f6a0a9"
      },
      "execution_count": 13,
      "outputs": [
        {
          "output_type": "execute_result",
          "data": {
            "text/plain": [
              "True"
            ]
          },
          "metadata": {},
          "execution_count": 13
        }
      ]
    },
    {
      "cell_type": "code",
      "source": [],
      "metadata": {
        "id": "2nDlYn1eyuja"
      },
      "execution_count": null,
      "outputs": []
    }
  ]
}