{
  "nbformat": 4,
  "nbformat_minor": 0,
  "metadata": {
    "colab": {
      "provenance": [],
      "authorship_tag": "ABX9TyOL4NiWN1vLAT2JTtx7OBT+",
      "include_colab_link": true
    },
    "kernelspec": {
      "name": "python3",
      "display_name": "Python 3"
    },
    "language_info": {
      "name": "python"
    }
  },
  "cells": [
    {
      "cell_type": "markdown",
      "metadata": {
        "id": "view-in-github",
        "colab_type": "text"
      },
      "source": [
        "<a href=\"https://colab.research.google.com/github/paul6598/AI_practice/blob/main/240511.ipynb\" target=\"_parent\"><img src=\"https://colab.research.google.com/assets/colab-badge.svg\" alt=\"Open In Colab\"/></a>"
      ]
    },
    {
      "cell_type": "code",
      "execution_count": 1,
      "metadata": {
        "id": "yNsns66a-ZiC"
      },
      "outputs": [],
      "source": [
        "import numpy as np\n",
        "import pandas as pd\n",
        "import random"
      ]
    },
    {
      "cell_type": "code",
      "source": [
        "input_ = [\n",
        "    [[0,0],[0]],\n",
        "    [[0,1],[1]],\n",
        "    [[1,0],[1]],\n",
        "    [[1,1],[0]],\n",
        "    ]\n",
        "\n",
        "lr = 0.1\n",
        "def tanh(x, derivative = False):\n",
        "  if derivative:\n",
        "    return 1-x**2\n",
        "  return np.tanh(x)\n",
        "\n",
        "def sigmoid(x, derivative = False):\n",
        "  if derivative:\n",
        "    return x*(1-x)\n",
        "  else:\n",
        "    return 1/(1+np.exp(-x))\n",
        "\n",
        "def relu(x, derivative = False):\n",
        "  if derivative:\n",
        "    if x<0:\n",
        "      return 0\n",
        "    else:\n",
        "      return 1\n",
        "  else:\n",
        "    return max(0,x)\n",
        "\n",
        "class cnn():\n",
        "  def __init__(self, num_x, num_h, num_y, bias=1):\n",
        "    self.num_x = num_x + bias #신경망 노드 수 입력\n",
        "    self.num_h = num_h\n",
        "    self.num_y = num_y\n",
        "\n",
        "    self.active_input = [0.0]*self.num_x #신경망 노드 구축\n",
        "    self.active_hidden = [0.0]*self.num_h\n",
        "    self.active_output = [0.0]*self.num_y\n",
        "\n",
        "    self.weight_input = self.make_matrics(self.num_h, self.num_x) #입력-은닉층 가중치벡터 구성\n",
        "    for i in range(self.num_h):\n",
        "      for j in range(self.num_x):\n",
        "        self.weight_input[i][j] = random.random()\n",
        "\n",
        "    self.weight_output = self.make_matrics(self.num_y, self.num_h) #은닉-출력층 가중치벡터 구성\n",
        "    for i in range(self.num_y):\n",
        "      for j in range(self.num_h):\n",
        "        self.weight_output[i][j] = random.random()\n",
        "\n",
        "\n",
        "\n",
        "  def make_matrics(self, i, j):\n",
        "    return [[0.0]*j for _ in range(i)]\n",
        "\n",
        "\n",
        "\n",
        "  def update(self,input_):\n",
        "    for i in range(self.num_x-1): #입력층\n",
        "      self.active_input[i] = input_[i]\n",
        "\n",
        "    for i in range(self.num_h): #은닉층\n",
        "      sum_ = 0.0\n",
        "      for j in range(self.num_x):\n",
        "        #print(\"은닉층\",i,j)\n",
        "        sum_ += self.weight_input[i][j]*self.active_input[j]\n",
        "      self.active_hidden[i] = tanh(sum_)\n",
        "\n",
        "    for i in range(self.num_y): #출력층\n",
        "      sum_ = 0.0\n",
        "      for j in range(self.num_h):\n",
        "        #print(i,j)\n",
        "        sum_ += self.weight_output[i][j]*self.active_hidden[j]\n",
        "      self.active_output[i] = tanh(sum_)\n",
        "\n",
        "    return self.active_output\n",
        "\n",
        "\n",
        "\n",
        "\n",
        "  def backprogate(self, targets):\n",
        "    delta_out = [0.0]*self.num_y #출력층 델타식\n",
        "    for i in range(self.num_y):\n",
        "      delta_out[i] = (self.active_output[i]-targets[i])*tanh(self.active_output[i], True)\n",
        "\n",
        "    delta_hidden = [0.0]*self.num_h #은닉층 델타식\n",
        "    for i in range(self.num_h):\n",
        "      sum_ = 0.0\n",
        "      for j in range(self.num_y):\n",
        "        sum_ += delta_out[j]*self.weight_output[j][i]\n",
        "      sum_ *= tanh(self.active_hidden[i], True)\n",
        "      delta_hidden[i] = sum_\n",
        "\n",
        "\n",
        "    for i in range(self.num_y):\n",
        "      for j in range(self.num_h):\n",
        "        self.weight_output[i][j] -= lr*delta_out[i]*self.active_hidden[j]\n",
        "\n",
        "    for i in range(self.num_h):\n",
        "      for j in range(self.num_x):\n",
        "        self.weight_input[i][j] -= lr*delta_hidden[i]*self.active_input[j]\n",
        "\n",
        "    error = 0.0\n",
        "    for k in range(len(targets)):\n",
        "      error += ((targets[k]-self.active_output[k])**2)/2\n",
        "    return error\n",
        "\n",
        "\n",
        "\n",
        "\n",
        "  def train(self, inputs, epochs):\n",
        "    input_len = len(inputs)\n",
        "    for epoch in range(epochs):\n",
        "      for i in range(input_len):\n",
        "        train_x, train_y = inputs[i][0], inputs[i][1]\n",
        "        self.update(train_x)\n",
        "        error = self.backprogate(train_y)\n",
        "      if epoch%200 == 0:\n",
        "        print(\"epoch {0}/{1}, error:{2}\".format(epoch,epochs,error))\n",
        "\n",
        "\n",
        "  def result(self, inputs):\n",
        "    for i in range(len(inputs)):\n",
        "      print(\"input:{0}, real_value:{1}, pred_value:{2}\".format(inputs[i][0], inputs[i][1], self.update(inputs[i][0])))\n"
      ],
      "metadata": {
        "id": "kBisMPaN_GRS"
      },
      "execution_count": 51,
      "outputs": []
    },
    {
      "cell_type": "code",
      "source": [
        "model = cnn(2,2,1)\n",
        "model.train(input_,4000)\n",
        "model.result(input_)"
      ],
      "metadata": {
        "colab": {
          "base_uri": "https://localhost:8080/"
        },
        "id": "w9aO4TMKOa9d",
        "outputId": "dd57adb6-5ef9-4333-9133-ecf9240ee460"
      },
      "execution_count": 52,
      "outputs": [
        {
          "output_type": "stream",
          "name": "stdout",
          "text": [
            "epoch 0/4000, error:0.31083593074343296\n",
            "epoch 200/4000, error:0.1327818981595941\n",
            "epoch 400/4000, error:0.04149709676904344\n",
            "epoch 600/4000, error:0.014522797324701277\n",
            "epoch 800/4000, error:0.006105646812719578\n",
            "epoch 1000/4000, error:0.0030530174264985573\n",
            "epoch 1200/4000, error:0.0017465408248146254\n",
            "epoch 1400/4000, error:0.0011030211996076384\n",
            "epoch 1600/4000, error:0.0007492590522356098\n",
            "epoch 1800/4000, error:0.0005376146634503317\n",
            "epoch 2000/4000, error:0.0004023790564703005\n",
            "epoch 2200/4000, error:0.00031134734152175116\n",
            "epoch 2400/4000, error:0.0002474462426132909\n",
            "epoch 2600/4000, error:0.00020102253406610932\n",
            "epoch 2800/4000, error:0.0001663190495336865\n",
            "epoch 3000/4000, error:0.00013974499563589098\n",
            "epoch 3200/4000, error:0.00011897404904830935\n",
            "epoch 3400/4000, error:0.00010244918650427023\n",
            "epoch 3600/4000, error:8.909848160487189e-05\n",
            "epoch 3800/4000, error:7.816557776661878e-05\n",
            "input:[0, 0], real_value:[0], pred_value:[0.0]\n",
            "input:[0, 1], real_value:[1], pred_value:[0.9406662965499466]\n",
            "input:[1, 0], real_value:[1], pred_value:[0.9405628755092776]\n",
            "input:[1, 1], real_value:[0], pred_value:[-0.008824848690256149]\n"
          ]
        }
      ]
    },
    {
      "cell_type": "code",
      "source": [],
      "metadata": {
        "id": "ZE_nliLYOdQ8"
      },
      "execution_count": null,
      "outputs": []
    }
  ]
}