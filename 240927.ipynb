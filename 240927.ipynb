{
  "nbformat": 4,
  "nbformat_minor": 0,
  "metadata": {
    "colab": {
      "provenance": [],
      "authorship_tag": "ABX9TyOEtgufL9CzoXCJv5gbevLB",
      "include_colab_link": true
    },
    "kernelspec": {
      "name": "python3",
      "display_name": "Python 3"
    },
    "language_info": {
      "name": "python"
    }
  },
  "cells": [
    {
      "cell_type": "markdown",
      "metadata": {
        "id": "view-in-github",
        "colab_type": "text"
      },
      "source": [
        "<a href=\"https://colab.research.google.com/github/paul6598/AI_practice/blob/main/240927.ipynb\" target=\"_parent\"><img src=\"https://colab.research.google.com/assets/colab-badge.svg\" alt=\"Open In Colab\"/></a>"
      ]
    },
    {
      "cell_type": "code",
      "execution_count": 1,
      "metadata": {
        "id": "aDbp1uS4EjOy"
      },
      "outputs": [],
      "source": [
        "import numpy as np"
      ]
    },
    {
      "cell_type": "code",
      "source": [
        "a = np.array([1,2,3,4])\n",
        "b = np.array([1,2,3,4])\n",
        "print(np.dot(a,b))"
      ],
      "metadata": {
        "colab": {
          "base_uri": "https://localhost:8080/"
        },
        "id": "QaE8ADNpEsY0",
        "outputId": "5ea7f363-2871-4bcf-c24f-286cbaea767d"
      },
      "execution_count": 3,
      "outputs": [
        {
          "output_type": "stream",
          "name": "stdout",
          "text": [
            "30\n"
          ]
        }
      ]
    },
    {
      "cell_type": "code",
      "source": [
        "import time\n",
        "a = np.random.rand(1000000)\n",
        "b = np.random.rand(1000000)\n",
        "\n",
        "tic = time.time()\n",
        "c = np.dot(a,b)\n",
        "toc = time.time()\n",
        "print(\"벡터화 시간:\",toc-tic)\n",
        "print(c)\n",
        "\n",
        "tic = time.time()\n",
        "c = 0\n",
        "for i in range(1000000):\n",
        "  c += a[i]*b[i]\n",
        "toc = time.time()\n",
        "print(\"반복문 시간:\",toc-tic)\n",
        "print(c)\n"
      ],
      "metadata": {
        "colab": {
          "base_uri": "https://localhost:8080/"
        },
        "id": "5WjjWSoSE0Pc",
        "outputId": "2d362d2c-8925-4943-d0db-80e37008283c"
      },
      "execution_count": 15,
      "outputs": [
        {
          "output_type": "stream",
          "name": "stdout",
          "text": [
            "벡터화 시간: 0.0012004375457763672\n",
            "249754.33917629707\n",
            "반복문 시간: 0.4668581485748291\n",
            "249754.33917629224\n"
          ]
        }
      ]
    },
    {
      "cell_type": "code",
      "source": [
        "one = np.random.randint(1,100)\n",
        "one\n",
        "np.mean(one)"
      ],
      "metadata": {
        "colab": {
          "base_uri": "https://localhost:8080/"
        },
        "id": "JYy4GrQvFOGF",
        "outputId": "da7c90f8-8335-4ecf-c935-409702b997ac"
      },
      "execution_count": 23,
      "outputs": [
        {
          "output_type": "execute_result",
          "data": {
            "text/plain": [
              "49.98929865"
            ]
          },
          "metadata": {},
          "execution_count": 23
        }
      ]
    },
    {
      "cell_type": "code",
      "source": [
        "\"\"\"\n",
        "z = w^T*x+b\n",
        "\n",
        "a = 1/1+e**(-z)\n",
        "\n",
        "j = -[ylog(a)+(1-y)log(1-a)]\n",
        "\n",
        "dj/da =\n",
        "\n",
        "\n",
        "\"\"\""
      ],
      "metadata": {
        "colab": {
          "base_uri": "https://localhost:8080/"
        },
        "id": "IQ90Pyb3HdsQ",
        "outputId": "d3a85477-ce3b-4cf5-99f9-6a952d7334c4"
      },
      "execution_count": 20,
      "outputs": [
        {
          "output_type": "execute_result",
          "data": {
            "text/plain": [
              "array([2704, 1764, 5929, 8464, 2916, 7569, 2401, 5329, 6889,  441, 3969,\n",
              "       7921, 1936,  256, 1369, 1681,   49, 6241, 3025, 2025])"
            ]
          },
          "metadata": {},
          "execution_count": 20
        }
      ]
    },
    {
      "cell_type": "code",
      "source": [],
      "metadata": {
        "id": "Zh1zjh1QH2Q8"
      },
      "execution_count": null,
      "outputs": []
    }
  ]
}